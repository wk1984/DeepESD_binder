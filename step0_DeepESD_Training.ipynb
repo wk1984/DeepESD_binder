{
 "cells": [
  {
   "cell_type": "code",
   "execution_count": null,
   "metadata": {
    "vscode": {
     "languageId": "plaintext"
    }
   },
   "outputs": [],
   "source": [
    "# 扩展 Java 内存\n",
    "options(java.parameters = \"-Xmx8g\")\n",
    "\n",
    "# 加载 C4R 核心库\n",
    "library(loadeR)\n",
    "library(loadeR.2nc)\n",
    "library(transformeR)\n",
    "library(downscaleR)\n",
    "library(downscaleR.keras)\n",
    "library(visualizeR)\n",
    "library(climate4R.value)\n",
    "\n",
    "# 其他有用的库\n",
    "library(magrittr)  # 用于管道操作 %>%\n",
    "library(RColorBrewer)\n",
    "library(gridExtra)\n",
    "library(ggplot2)\n",
    "\n",
    "# 创建数据、模型和图形文件夹\n",
    "if (!dir.exists(\"./data/pr\")) dir.create(\"./data/pr\", recursive = TRUE, showWarnings = FALSE)\n",
    "if (!dir.exists(\"./data/tas\")) dir.create(\"./data/tas\", showWarnings = FALSE)\n",
    "if (!dir.exists(\"./models/pr\")) dir.create(\"./models/pr\", recursive = TRUE, showWarnings = FALSE)\n",
    "if (!dir.exists(\"./models/tas\")) dir.create(\"./models/tas\", showWarnings = FALSE)\n",
    "if (!dir.exists(\"./figures\")) dir.create(\"./figures\", showWarnings = FALSE)"
   ]
  },
  {
   "cell_type": "code",
   "execution_count": null,
   "metadata": {
    "vscode": {
     "languageId": "plaintext"
    }
   },
   "outputs": [],
   "source": [
    "# --- 在 'pr' 或 'tas' 之间选择一个作为预测目标 ---\n",
    "predictand <- 'pr'\n",
    "# ----------------------------------------------\n",
    "\n",
    "# 定义是否将数据文件压缩为 .gz 格式\n",
    "compress <- TRUE\n",
    "extension <- if (isTRUE(compress)) {\n",
    "   \"rds.gz\"\n",
    "} else {\n",
    "  \"rds\"\n",
    "}"
   ]
  },
  {
   "cell_type": "code",
   "execution_count": null,
   "metadata": {
    "vscode": {
     "languageId": "r"
    }
   },
   "outputs": [],
   "source": [
    "# 1. 定义 predictor 变量\n",
    "vars  <- c(\n",
    "  \"z@500\",\"z@700\",\"z@850\",       # 不同气压层上的位势高度\n",
    "  \"hus@500\",\"hus@700\",\"hus@850\", # 不同气压层上的比湿度\n",
    "  \"ta@500\",\"ta@700\",\"ta@850\",    # 不同气压层上的气温\n",
    "  \"ua@500\",\"ua@700\",\"ua@850\",    # 不同气压层上的纬向风\n",
    "  \"va@500\",\"va@700\",\"va@850\"     # 不同气压层上的经向风\n",
    ")"
   ]
  },
  {
   "cell_type": "code",
   "execution_count": null,
   "metadata": {
    "vscode": {
     "languageId": "r"
    }
   },
   "outputs": [],
   "source": [
    "x <- readRDS(sprintf(\"./data/x_ERA-Interim.%s\", extension))\n",
    "y <- readRDS(sprintf(\"./data/%s/y.%s\", predictand, extension))"
   ]
  },
  {
   "cell_type": "code",
   "execution_count": null,
   "metadata": {
    "vscode": {
     "languageId": "plaintext"
    }
   },
   "outputs": [],
   "source": [
    "# 1. 定义 CNN 模型结构\n",
    "# 降水 (pr) 和 气温 (tas) 的模型结构不同\n",
    "modelCNN <- function(inp) {\n",
    "  padding = switch(predictand, pr = \"same\", tas = \"valid\")\n",
    "  filters.l1 = 50\n",
    "  filters.l2 = 25\n",
    "  filters.l3 = switch(predictand, pr = 1, tas = 10)\n",
    "  # 输入层\n",
    "  inputs <- layer_input(shape = dim(inp$x.global)[2:4])\n",
    "  # 隐藏层\n",
    "  l1 = layer_conv_2d(inputs, filters = filters.l1, kernel_size = c(3,3), activation = 'relu', padding = padding)\n",
    "  l2 = layer_conv_2d(    l1, filters = filters.l2, kernel_size = c(3,3), activation = 'relu', padding = padding)\n",
    "  l3 = layer_conv_2d(    l2, filters = filters.l3, kernel_size = c(3,3), activation = 'relu', padding = padding)\n",
    "  l4 = layer_flatten(    l3)\n",
    "  # 输出层 (根据预测目标而变化)\n",
    "  if (predictand == \"pr\") {\n",
    "    l51 = layer_dense(l4, units = dim(inp$y$Data)[2], activation = 'sigmoid')\n",
    "    l52 = layer_dense(l4, units = dim(inp$y$Data)[2], activation = 'linear' )\n",
    "    l53 = layer_dense(l4, units = dim(inp$y$Data)[2], activation = 'linear' )\n",
    "    outputs <- layer_concatenate(list(l51,l52,l53))\n",
    "  } else if (predictand == \"tas\") {\n",
    "    l51 = layer_dense(l4, units = dim(inp$y$Data)[2], activation = 'linear')\n",
    "    l52 = layer_dense(l4, units = dim(inp$y$Data)[2], activation = 'linear')\n",
    "    outputs <- layer_concatenate(list(l51, l52))\n",
    "  }\n",
    "  model <- keras_model(inputs = inputs, outputs = outputs)\n",
    "}\n",
    "\n"
   ]
  },
  {
   "cell_type": "code",
   "execution_count": null,
   "metadata": {
    "vscode": {
     "languageId": "plaintext"
    }
   },
   "outputs": [],
   "source": [
    "# 2. 标准化 predictor 和处理 predictand\n",
    "x <- scaleGrid(x,type = \"standardize\")\n",
    "if (predictand == \"pr\") {\n",
    "  # 对于降水，将小于1mm的日降水视为无雨日\n",
    "  y <- binaryGrid(\n",
    "    gridArithmetics(y, 0.99, operator = \"-\"),\n",
    "    condition = \"GE\",\n",
    "    threshold = 0,\n",
    "    partial = TRUE\n",
    "  )\n",
    "}"
   ]
  },
  {
   "cell_type": "code",
   "execution_count": null,
   "metadata": {
    "vscode": {
     "languageId": "r"
    }
   },
   "outputs": [],
   "source": [
    "# 3. 准备用于 Keras 训练的数据格式\n",
    "xy.train <- prepareData.keras(\n",
    "  x = x,\n",
    "  y = y,\n",
    "  first.connection = \"conv\",\n",
    "  last.connection = \"dense\",\n",
    "  channels = \"last\"\n",
    ")"
   ]
  },
  {
   "cell_type": "code",
   "execution_count": null,
   "metadata": {
    "vscode": {
     "languageId": "r"
    }
   },
   "outputs": [],
   "source": [
    "# 4. 训练模型\n",
    "# 警告：运行此单元格大约需要1小时\n",
    "cnnmodel.name <- switch(predictand,\n",
    "  pr=\"CNN1\",\n",
    "  tas=\"CNN10\"\n",
    ")"
   ]
  },
  {
   "cell_type": "code",
   "execution_count": null,
   "metadata": {
    "vscode": {
     "languageId": "r"
    }
   },
   "outputs": [],
   "source": [
    "cnnloss <- switch(predictand,\n",
    "  pr = bernouilliGammaLoss(last.connection = \"dense\"),\n",
    "  tas = gaussianLoss(last.connection = \"dense\")\n",
    ")"
   ]
  },
  {
   "cell_type": "code",
   "execution_count": null,
   "metadata": {
    "vscode": {
     "languageId": "r"
    }
   },
   "outputs": [],
   "source": [
    "output.file <- sprintf('./models/%s/%s.h5', predictand, cnnmodel.name)\n",
    "if (! file.exists(output.file)) {\n",
    "\n",
    "  # 训练CNN模型\n",
    "  downscaleTrain.keras(\n",
    "    obj = xy.train,\n",
    "    model = modelCNN(xy.train),\n",
    "    clear.session = TRUE,\n",
    "    compile.args =\n",
    "      list(\n",
    "        \"loss\" = cnnloss,\n",
    "        \"optimizer\" = optimizer_adam(lr = 0.0001)\n",
    "      ),\n",
    "    fit.args =\n",
    "      list(\n",
    "        \"batch_size\" = 5,\n",
    "        \"epochs\" = 5,\n",
    "        \"validation_split\" = 0.1,\n",
    "        \"verbose\" = 1,\n",
    "        \"callbacks\" = list(\n",
    "           callback_early_stopping(patience = 30),\n",
    "           callback_model_checkpoint(\n",
    "             filepath = output.file,\n",
    "             monitor = 'val_loss',\n",
    "             save_best_only = TRUE\n",
    "           )\n",
    "        )\n",
    "     )\n",
    "  )\n",
    "}"
   ]
  },
  {
   "cell_type": "code",
   "execution_count": null,
   "metadata": {
    "vscode": {
     "languageId": "r"
    }
   },
   "outputs": [],
   "source": [
    "if (predictand == \"pr\"){\n",
    "  xy.test <- prepareNewData.keras(x, xy.train)\n",
    "  pred_ocu_train <- cnn.predict(xy.test) %>% subsetGrid(var = \"p\")\n",
    "}"
   ]
  }
 ],
 "metadata": {
  "kernelspec": {
   "display_name": "R",
   "language": "R",
   "name": "ir"
  },
  "language_info": {
   "codemirror_mode": "r",
   "file_extension": ".r",
   "mimetype": "text/x-r-source",
   "name": "R",
   "pygments_lexer": "r",
   "version": "3.6.3"
  },
  "latex_envs": {
   "LaTeX_envs_menu_present": true,
   "autoclose": false,
   "autocomplete": true,
   "bibliofile": "biblio.bib",
   "cite_by": "apalike",
   "current_citInitial": 1,
   "eqLabelWithNumbers": true,
   "eqNumInitial": 1,
   "hotkeys": {
    "equation": "Ctrl-E",
    "itemize": "Ctrl-I"
   },
   "labels_anchors": false,
   "latex_user_defs": false,
   "report_style_numbering": false,
   "user_envs_cfg": false
  },
  "toc": {
   "base_numbering": 1,
   "nav_menu": {
    "height": "386px",
    "width": "400px"
   },
   "number_sections": true,
   "sideBar": true,
   "skip_h1_title": true,
   "title_cell": "Table of Contents",
   "title_sidebar": "Contents",
   "toc_cell": true,
   "toc_position": {},
   "toc_section_display": true,
   "toc_window_display": true
  }
 },
 "nbformat": 4,
 "nbformat_minor": 4
}
